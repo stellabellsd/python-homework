{
 "cells": [
  {
   "cell_type": "code",
   "execution_count": 1,
   "id": "d6654a98-4820-4046-8053-a4d6c3f8e8ab",
   "metadata": {
    "tags": []
   },
   "outputs": [
    {
     "name": "stdout",
     "output_type": "stream",
     "text": [
      "Financial Analysis\n",
      "----------------------------\n",
      "Total Months: 86\n",
      "Total: $38382578\n",
      "Average  Change: $-2315.1176470588234\n",
      "Greatest Increase in Profits: $1926159 Date: Feb-2012\n",
      "Greatest Decrease in Profits: $-2196167 Date: Sep-2013\n"
     ]
    }
   ],
   "source": [
    "\n",
    "from pathlib import Path\n",
    "import csv\n",
    "\n",
    "#set file path\n",
    "file_path = \"budget_data.csv\"\n",
    "\n",
    "dates = []\n",
    "profit_losses = []\n",
    "\n",
    "# open the csv file as an object\n",
    "with open(file_path, 'r') as csvfile:\n",
    "    csvreader = csv.reader(csvfile)\n",
    "    \n",
    "#skip header\n",
    "    header = next(csvreader)  \n",
    "\n",
    "    for row in csvreader:\n",
    "        dates.append(row[0])\n",
    "        profit_losses.append(int(row[1]))\n",
    "\n",
    "total_months = len(dates)\n",
    "\n",
    "net_total = sum(profit_losses)\n",
    "\n",
    "# Average of the changes in Profit/Losses\n",
    "changes = [profit_losses[i+1] - profit_losses[i] for i in range(total_months -1)]\n",
    "average_change = sum(changes) / len(changes)\n",
    "\n",
    "# Greatest increase in profits and greatest decrease in profits\n",
    "greatest_increase = max(changes)\n",
    "greatest_increase_date = dates[changes.index(greatest_increase) +1]\n",
    "\n",
    "greatest_decrease = min(changes)\n",
    "greatest_decrease_date = dates[changes.index(greatest_decrease) +1]\n",
    "\n",
    "financial_analysis = (\n",
    "    \"Financial Analysis\\n\"\n",
    "    \"----------------------------\\n\"\n",
    "    f\"Total Months: {total_months}\\n\"\n",
    "    f\"Total: ${net_total}\\n\"\n",
    "    f\"Average  Change: ${average_change}\\n\"\n",
    "    f\"Greatest Increase in Profits: ${greatest_increase} Date: {greatest_increase_date}\\n\"\n",
    "    f\"Greatest Decrease in Profits: ${greatest_decrease} Date: {greatest_decrease_date}\"\n",
    ")\n",
    "print(financial_analysis)\n",
    "\n",
    "output_file_path = \"financial_analysis.txt\"\n",
    "with open(output_file_path, 'w') as text_file:\n",
    "    text_file.write(financial_analysis)\n"
   ]
  },
  {
   "cell_type": "code",
   "execution_count": null,
   "id": "6a263345-c826-4ab4-bfdb-4afde72f350a",
   "metadata": {},
   "outputs": [],
   "source": []
  }
 ],
 "metadata": {
  "kernelspec": {
   "display_name": "Python 3 (ipykernel)",
   "language": "python",
   "name": "python3"
  },
  "language_info": {
   "codemirror_mode": {
    "name": "ipython",
    "version": 3
   },
   "file_extension": ".py",
   "mimetype": "text/x-python",
   "name": "python",
   "nbconvert_exporter": "python",
   "pygments_lexer": "ipython3",
   "version": "3.11.4"
  }
 },
 "nbformat": 4,
 "nbformat_minor": 5
}
